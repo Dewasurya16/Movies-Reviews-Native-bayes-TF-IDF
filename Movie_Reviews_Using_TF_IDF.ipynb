{
  "nbformat": 4,
  "nbformat_minor": 0,
  "metadata": {
    "colab": {
      "name": "Movie Reviews Using TF-IDF.ipynb",
      "provenance": [],
      "collapsed_sections": []
    },
    "kernelspec": {
      "name": "python3",
      "display_name": "Python 3"
    },
    "language_info": {
      "name": "python"
    }
  },
  "cells": [
    {
      "cell_type": "code",
      "execution_count": 99,
      "metadata": {
        "id": "T6ElJrhQxdIj"
      },
      "outputs": [],
      "source": [
        "import numpy as np \n",
        "import pandas as pd\n",
        "from sklearn.feature_extraction.text import TfidfVectorizer\n",
        "from sklearn.naive_bayes import MultinomialNB\n",
        "from sklearn import metrics\n",
        "import nltk\n",
        "import re\n",
        "import string\n",
        "from nltk.stem import WordNetLemmatizer"
      ]
    },
    {
      "cell_type": "code",
      "source": [
        "test_csv = pd.read_csv('test_data (1).csv') \n",
        "train_csv = pd.read_csv('train_data (1).csv')"
      ],
      "metadata": {
        "id": "-IoZcXYjx3MO"
      },
      "execution_count": 100,
      "outputs": []
    },
    {
      "cell_type": "code",
      "source": [
        "nltk.download('stopwords')\n",
        "nltk.download('wordnet')\n",
        "nltk.download('omw-1.4')"
      ],
      "metadata": {
        "colab": {
          "base_uri": "https://localhost:8080/"
        },
        "id": "WUX4WZF90rDM",
        "outputId": "a56bf57a-dfe9-4020-9aaa-02194518ec4f"
      },
      "execution_count": 101,
      "outputs": [
        {
          "output_type": "stream",
          "name": "stderr",
          "text": [
            "[nltk_data] Downloading package stopwords to /root/nltk_data...\n",
            "[nltk_data]   Package stopwords is already up-to-date!\n",
            "[nltk_data] Downloading package wordnet to /root/nltk_data...\n",
            "[nltk_data]   Package wordnet is already up-to-date!\n",
            "[nltk_data] Downloading package omw-1.4 to /root/nltk_data...\n",
            "[nltk_data]   Package omw-1.4 is already up-to-date!\n"
          ]
        },
        {
          "output_type": "execute_result",
          "data": {
            "text/plain": [
              "True"
            ]
          },
          "metadata": {},
          "execution_count": 101
        }
      ]
    },
    {
      "cell_type": "code",
      "source": [
        "#penghapusan stopword dan lemmatisasi\n",
        "stopwords = nltk.corpus.stopwords.words('english')\n",
        "lemmatizer = WordNetLemmatizer()"
      ],
      "metadata": {
        "id": "anY-WUFW0pEQ"
      },
      "execution_count": 102,
      "outputs": []
    },
    {
      "cell_type": "code",
      "source": [
        "train_csv.tail()"
      ],
      "metadata": {
        "colab": {
          "base_uri": "https://localhost:8080/",
          "height": 206
        },
        "id": "9cYtW5dn0tWc",
        "outputId": "78a4ec6d-2a22-44ff-fde6-a3683b123fdc"
      },
      "execution_count": 103,
      "outputs": [
        {
          "output_type": "execute_result",
          "data": {
            "text/plain": [
              "                                                       0  1\n",
              "24995  With this movie being the only Dirty Harry mov...  1\n",
              "24996  Any screen adaptation of a John Grisham story ...  1\n",
              "24997  This film captured my heart from the very begi...  1\n",
              "24998  A deplorable social condition triggers off the...  1\n",
              "24999  Always enjoy the great acting of Drew Barrymor...  1"
            ],
            "text/html": [
              "\n",
              "  <div id=\"df-58129a86-2c0c-40a2-97c4-d0508cf201b0\">\n",
              "    <div class=\"colab-df-container\">\n",
              "      <div>\n",
              "<style scoped>\n",
              "    .dataframe tbody tr th:only-of-type {\n",
              "        vertical-align: middle;\n",
              "    }\n",
              "\n",
              "    .dataframe tbody tr th {\n",
              "        vertical-align: top;\n",
              "    }\n",
              "\n",
              "    .dataframe thead th {\n",
              "        text-align: right;\n",
              "    }\n",
              "</style>\n",
              "<table border=\"1\" class=\"dataframe\">\n",
              "  <thead>\n",
              "    <tr style=\"text-align: right;\">\n",
              "      <th></th>\n",
              "      <th>0</th>\n",
              "      <th>1</th>\n",
              "    </tr>\n",
              "  </thead>\n",
              "  <tbody>\n",
              "    <tr>\n",
              "      <th>24995</th>\n",
              "      <td>With this movie being the only Dirty Harry mov...</td>\n",
              "      <td>1</td>\n",
              "    </tr>\n",
              "    <tr>\n",
              "      <th>24996</th>\n",
              "      <td>Any screen adaptation of a John Grisham story ...</td>\n",
              "      <td>1</td>\n",
              "    </tr>\n",
              "    <tr>\n",
              "      <th>24997</th>\n",
              "      <td>This film captured my heart from the very begi...</td>\n",
              "      <td>1</td>\n",
              "    </tr>\n",
              "    <tr>\n",
              "      <th>24998</th>\n",
              "      <td>A deplorable social condition triggers off the...</td>\n",
              "      <td>1</td>\n",
              "    </tr>\n",
              "    <tr>\n",
              "      <th>24999</th>\n",
              "      <td>Always enjoy the great acting of Drew Barrymor...</td>\n",
              "      <td>1</td>\n",
              "    </tr>\n",
              "  </tbody>\n",
              "</table>\n",
              "</div>\n",
              "      <button class=\"colab-df-convert\" onclick=\"convertToInteractive('df-58129a86-2c0c-40a2-97c4-d0508cf201b0')\"\n",
              "              title=\"Convert this dataframe to an interactive table.\"\n",
              "              style=\"display:none;\">\n",
              "        \n",
              "  <svg xmlns=\"http://www.w3.org/2000/svg\" height=\"24px\"viewBox=\"0 0 24 24\"\n",
              "       width=\"24px\">\n",
              "    <path d=\"M0 0h24v24H0V0z\" fill=\"none\"/>\n",
              "    <path d=\"M18.56 5.44l.94 2.06.94-2.06 2.06-.94-2.06-.94-.94-2.06-.94 2.06-2.06.94zm-11 1L8.5 8.5l.94-2.06 2.06-.94-2.06-.94L8.5 2.5l-.94 2.06-2.06.94zm10 10l.94 2.06.94-2.06 2.06-.94-2.06-.94-.94-2.06-.94 2.06-2.06.94z\"/><path d=\"M17.41 7.96l-1.37-1.37c-.4-.4-.92-.59-1.43-.59-.52 0-1.04.2-1.43.59L10.3 9.45l-7.72 7.72c-.78.78-.78 2.05 0 2.83L4 21.41c.39.39.9.59 1.41.59.51 0 1.02-.2 1.41-.59l7.78-7.78 2.81-2.81c.8-.78.8-2.07 0-2.86zM5.41 20L4 18.59l7.72-7.72 1.47 1.35L5.41 20z\"/>\n",
              "  </svg>\n",
              "      </button>\n",
              "      \n",
              "  <style>\n",
              "    .colab-df-container {\n",
              "      display:flex;\n",
              "      flex-wrap:wrap;\n",
              "      gap: 12px;\n",
              "    }\n",
              "\n",
              "    .colab-df-convert {\n",
              "      background-color: #E8F0FE;\n",
              "      border: none;\n",
              "      border-radius: 50%;\n",
              "      cursor: pointer;\n",
              "      display: none;\n",
              "      fill: #1967D2;\n",
              "      height: 32px;\n",
              "      padding: 0 0 0 0;\n",
              "      width: 32px;\n",
              "    }\n",
              "\n",
              "    .colab-df-convert:hover {\n",
              "      background-color: #E2EBFA;\n",
              "      box-shadow: 0px 1px 2px rgba(60, 64, 67, 0.3), 0px 1px 3px 1px rgba(60, 64, 67, 0.15);\n",
              "      fill: #174EA6;\n",
              "    }\n",
              "\n",
              "    [theme=dark] .colab-df-convert {\n",
              "      background-color: #3B4455;\n",
              "      fill: #D2E3FC;\n",
              "    }\n",
              "\n",
              "    [theme=dark] .colab-df-convert:hover {\n",
              "      background-color: #434B5C;\n",
              "      box-shadow: 0px 1px 3px 1px rgba(0, 0, 0, 0.15);\n",
              "      filter: drop-shadow(0px 1px 2px rgba(0, 0, 0, 0.3));\n",
              "      fill: #FFFFFF;\n",
              "    }\n",
              "  </style>\n",
              "\n",
              "      <script>\n",
              "        const buttonEl =\n",
              "          document.querySelector('#df-58129a86-2c0c-40a2-97c4-d0508cf201b0 button.colab-df-convert');\n",
              "        buttonEl.style.display =\n",
              "          google.colab.kernel.accessAllowed ? 'block' : 'none';\n",
              "\n",
              "        async function convertToInteractive(key) {\n",
              "          const element = document.querySelector('#df-58129a86-2c0c-40a2-97c4-d0508cf201b0');\n",
              "          const dataTable =\n",
              "            await google.colab.kernel.invokeFunction('convertToInteractive',\n",
              "                                                     [key], {});\n",
              "          if (!dataTable) return;\n",
              "\n",
              "          const docLinkHtml = 'Like what you see? Visit the ' +\n",
              "            '<a target=\"_blank\" href=https://colab.research.google.com/notebooks/data_table.ipynb>data table notebook</a>'\n",
              "            + ' to learn more about interactive tables.';\n",
              "          element.innerHTML = '';\n",
              "          dataTable['output_type'] = 'display_data';\n",
              "          await google.colab.output.renderOutput(dataTable, element);\n",
              "          const docLink = document.createElement('div');\n",
              "          docLink.innerHTML = docLinkHtml;\n",
              "          element.appendChild(docLink);\n",
              "        }\n",
              "      </script>\n",
              "    </div>\n",
              "  </div>\n",
              "  "
            ]
          },
          "metadata": {},
          "execution_count": 103
        }
      ]
    },
    {
      "cell_type": "code",
      "source": [
        "train_X_non = train_csv['0']    # '0' mengacu pada teks ulasan\n",
        "train_y = train_csv['1']   # '1' sesuai dengan Label (1 - positif dan 0 - negatif)\n",
        "test_X_non = test_csv['0']\n",
        "test_y = test_csv['1']\n",
        "train_X=[]\n",
        "test_X=[]"
      ],
      "metadata": {
        "id": "bX6eZD6i0yx5"
      },
      "execution_count": 104,
      "outputs": []
    },
    {
      "cell_type": "markdown",
      "source": [
        "# Teks Prepocessing\n"
      ],
      "metadata": {
        "id": "GISPQPdI4BRs"
      }
    },
    {
      "cell_type": "code",
      "source": [
        "for i in range(0, len(train_X_non)):\n",
        "    review = re.sub('[^a-zA-Z]', ' ', train_X_non[i])\n",
        "    review = review.lower()\n",
        "    review = review.split()\n",
        "    review = [lemmatizer.lemmatize(word) for word in review if not word in set(stopwords)]\n",
        "    review = ' '.join(review)\n",
        "    train_X.append(review)"
      ],
      "metadata": {
        "id": "wGPezPgg06p7"
      },
      "execution_count": 105,
      "outputs": []
    },
    {
      "cell_type": "code",
      "source": [
        "for i in range(0, len(test_X_non)):\n",
        "    review = re.sub('[^a-zA-Z]', ' ', test_X_non[i])\n",
        "    review = review.lower()\n",
        "    review = review.split()\n",
        "    review = [lemmatizer.lemmatize(word) for word in review if not word in set(stopwords)]\n",
        "    review = ' '.join(review)\n",
        "    test_X.append(review)"
      ],
      "metadata": {
        "id": "HgSPKPAY1ns2"
      },
      "execution_count": 106,
      "outputs": []
    },
    {
      "cell_type": "code",
      "source": [
        "train_X[10]"
      ],
      "metadata": {
        "colab": {
          "base_uri": "https://localhost:8080/",
          "height": 71
        },
        "id": "dLqfn2b608s3",
        "outputId": "80e4fd45-90e0-4532-9e6f-a01a576e8199"
      },
      "execution_count": 107,
      "outputs": [
        {
          "output_type": "execute_result",
          "data": {
            "text/plain": [
              "'eddie murphy delirious far funniest thing ever see life compare movie garuntee decide delirious funniest movie ever movie hr min throughout time barely moment laughing laugh hour replaying punch line head eddie murphy given many funny performance career hr trading place beverly hill cop raw coming america nutty professor shrek etc far hilarious moment seen movie many time funnier every time never loses edge day forward every great stand performance emulated delirious two thumb'"
            ],
            "application/vnd.google.colaboratory.intrinsic+json": {
              "type": "string"
            }
          },
          "metadata": {},
          "execution_count": 107
        }
      ]
    },
    {
      "cell_type": "markdown",
      "source": [
        "Kita dapat melihat bahwa tanda baca dihilangkan dan semua stopword juga dihilangkan. Teks ini sekarang dapat digunakan untuk melatih classifier. "
      ],
      "metadata": {
        "id": "2Uy5vzzs407s"
      }
    },
    {
      "cell_type": "markdown",
      "source": [
        "#  TF-IDF Vectorizer"
      ],
      "metadata": {
        "id": "rdN_IiWu4-_v"
      }
    },
    {
      "cell_type": "code",
      "source": [
        "tf_idf = TfidfVectorizer()\n",
        "#menerapkan tf idf ke data pelatihan\n",
        "X_train_tf = tf_idf.fit_transform(train_X)\n",
        "#menerapkan tf idf ke data pelatihan\n",
        "\n",
        "X_train_tf = tf_idf.transform(train_X)"
      ],
      "metadata": {
        "id": "RhU89QuZ14G0"
      },
      "execution_count": 108,
      "outputs": []
    },
    {
      "cell_type": "code",
      "source": [
        "print(\"n_samples: %d, n_features: %d\" % X_train_tf.shape) #memeriksa sample dan fitur"
      ],
      "metadata": {
        "colab": {
          "base_uri": "https://localhost:8080/"
        },
        "id": "dYWlr0qL195r",
        "outputId": "911c107c-a475-42b1-beef-b81c439b6763"
      },
      "execution_count": 109,
      "outputs": [
        {
          "output_type": "stream",
          "name": "stdout",
          "text": [
            "n_samples: 25000, n_features: 65498\n"
          ]
        }
      ]
    },
    {
      "cell_type": "code",
      "source": [
        "#mengubah data uji menjadi matriks tf-idf\n",
        "X_test_tf = tf_idf.transform(test_X)"
      ],
      "metadata": {
        "id": "q9cCksZg1__g"
      },
      "execution_count": 110,
      "outputs": []
    },
    {
      "cell_type": "code",
      "source": [
        "print(\"n_samples: %d, n_features: %d\" % X_train_tf.shape)"
      ],
      "metadata": {
        "colab": {
          "base_uri": "https://localhost:8080/"
        },
        "id": "pzTUsWty2CB9",
        "outputId": "59e75253-bfd2-44c6-dfef-92084c035e1e"
      },
      "execution_count": 111,
      "outputs": [
        {
          "output_type": "stream",
          "name": "stdout",
          "text": [
            "n_samples: 25000, n_features: 65498\n"
          ]
        }
      ]
    },
    {
      "cell_type": "markdown",
      "source": [
        "# Naive Bayes Classifier"
      ],
      "metadata": {
        "id": "5XQc23Hv2E1d"
      }
    },
    {
      "cell_type": "code",
      "source": [
        "#pengklasifikasi naive bayes\n",
        "naive_bayes_classifier = MultinomialNB()\n",
        "naive_bayes_classifier.fit(X_train_tf, train_y)"
      ],
      "metadata": {
        "colab": {
          "base_uri": "https://localhost:8080/"
        },
        "id": "xa17Q8cg2G7-",
        "outputId": "b1880c1c-916e-4bbb-acc4-1b80fc7f924a"
      },
      "execution_count": 112,
      "outputs": [
        {
          "output_type": "execute_result",
          "data": {
            "text/plain": [
              "MultinomialNB()"
            ]
          },
          "metadata": {},
          "execution_count": 112
        }
      ]
    },
    {
      "cell_type": "code",
      "source": [
        "#predicted y\n",
        "y_pred = naive_bayes_classifier.predict(X_test_tf)"
      ],
      "metadata": {
        "id": "5VOujJBT2Kff"
      },
      "execution_count": 113,
      "outputs": []
    },
    {
      "cell_type": "markdown",
      "source": [
        "Prediksi selesai. Sekarang,mencetak laporan klasifikasi. "
      ],
      "metadata": {
        "id": "yjYPqzfK6j52"
      }
    },
    {
      "cell_type": "code",
      "source": [
        "print(metrics.classification_report(test_y, y_pred, target_names=['Positive', 'Negative']))"
      ],
      "metadata": {
        "colab": {
          "base_uri": "https://localhost:8080/"
        },
        "id": "ilTE8VZK2NrW",
        "outputId": "ccb89ce7-e1eb-457e-afc3-d72351e2e3dd"
      },
      "execution_count": 114,
      "outputs": [
        {
          "output_type": "stream",
          "name": "stdout",
          "text": [
            "              precision    recall  f1-score   support\n",
            "\n",
            "    Positive       0.80      0.88      0.84     12500\n",
            "    Negative       0.87      0.78      0.82     12500\n",
            "\n",
            "    accuracy                           0.83     25000\n",
            "   macro avg       0.83      0.83      0.83     25000\n",
            "weighted avg       0.83      0.83      0.83     25000\n",
            "\n"
          ]
        }
      ]
    },
    {
      "cell_type": "code",
      "source": [
        "print(\"Confusion matrix:\")   #periksa matriks confusion\n",
        "print(metrics.confusion_matrix(test_y, y_pred))"
      ],
      "metadata": {
        "colab": {
          "base_uri": "https://localhost:8080/"
        },
        "id": "DklKkGE82PuC",
        "outputId": "e13dea4a-c5f3-4550-b300-6a15e29128ed"
      },
      "execution_count": 115,
      "outputs": [
        {
          "output_type": "stream",
          "name": "stdout",
          "text": [
            "Confusion matrix:\n",
            "[[10990  1510]\n",
            " [ 2693  9807]]\n"
          ]
        }
      ]
    },
    {
      "cell_type": "markdown",
      "source": [
        "# Uji prediksi pada reviews clasifier TF IDF"
      ],
      "metadata": {
        "id": "TeK_pYa92ST5"
      }
    },
    {
      "cell_type": "code",
      "source": [
        "#Melakukan Tes Predikai\n",
        "test = [\" really looking forward movie based preview press received viewing terribly disappointed slum totally unfunny film mixed todd solondz type disturbing family reality sans todd brand humor story drag along scene worse last maybe missed point film example every girl growing experience glad man \"]"
      ],
      "metadata": {
        "id": "kIF0nKDe2SeN"
      },
      "execution_count": 116,
      "outputs": []
    },
    {
      "cell_type": "code",
      "source": [
        "review = re.sub('[^a-zA-Z]', ' ', test[0])\n",
        "review = review.lower()\n",
        "review = review.split()\n",
        "review = [lemmatizer.lemmatize(word) for word in review if not word in set(stopwords)]\n",
        "test_processed =[ ' '.join(review)]"
      ],
      "metadata": {
        "id": "W7Fw0rjx2ooK"
      },
      "execution_count": 117,
      "outputs": []
    },
    {
      "cell_type": "code",
      "source": [
        "test_processed  #melihat teks yang diproses"
      ],
      "metadata": {
        "colab": {
          "base_uri": "https://localhost:8080/"
        },
        "id": "L51DEL6c2rbU",
        "outputId": "89e2de51-a443-4672-e6e6-2c9d5c3b2131"
      },
      "execution_count": 118,
      "outputs": [
        {
          "output_type": "execute_result",
          "data": {
            "text/plain": [
              "['really looking forward movie based preview press received viewing terribly disappointed slum totally unfunny film mixed todd solondz type disturbing family reality sans todd brand humor story drag along scene worse last maybe missed point film example every girl growing experience glad man']"
            ]
          },
          "metadata": {},
          "execution_count": 118
        }
      ]
    },
    {
      "cell_type": "code",
      "source": [
        "test_input = tf_idf.transform(test_processed)\n",
        "test_input.shape"
      ],
      "metadata": {
        "colab": {
          "base_uri": "https://localhost:8080/"
        },
        "id": "hlV-Xvnl2vUx",
        "outputId": "78653e60-b65f-4620-866a-5aca0d6d11d9"
      },
      "execution_count": 119,
      "outputs": [
        {
          "output_type": "execute_result",
          "data": {
            "text/plain": [
              "(1, 65498)"
            ]
          },
          "metadata": {},
          "execution_count": 119
        }
      ]
    },
    {
      "cell_type": "code",
      "source": [
        "#0= bad review\n",
        "#1= good review\n",
        "res=naive_bayes_classifier.predict(test_input)[0]\n",
        "if res==1:\n",
        "    print(\"Good Review\")\n",
        "elif res==0:\n",
        "    print(\"Bad Review\")"
      ],
      "metadata": {
        "colab": {
          "base_uri": "https://localhost:8080/"
        },
        "id": "zMeJw7FH2xdR",
        "outputId": "c323743d-8783-4558-8551-f7aa743d3591"
      },
      "execution_count": 120,
      "outputs": [
        {
          "output_type": "stream",
          "name": "stdout",
          "text": [
            "Bad Review\n"
          ]
        }
      ]
    }
  ]
}